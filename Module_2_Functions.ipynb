{
  "nbformat": 4,
  "nbformat_minor": 0,
  "metadata": {
    "colab": {
      "provenance": [],
      "authorship_tag": "ABX9TyMEa1Yi1O9bnzjvJiTz5HDv",
      "include_colab_link": true
    },
    "kernelspec": {
      "name": "python3",
      "display_name": "Python 3"
    },
    "language_info": {
      "name": "python"
    }
  },
  "cells": [
    {
      "cell_type": "markdown",
      "metadata": {
        "id": "view-in-github",
        "colab_type": "text"
      },
      "source": [
        "<a href=\"https://colab.research.google.com/github/kerenalli/Python/blob/main/Module_2_Functions.ipynb\" target=\"_parent\"><img src=\"https://colab.research.google.com/assets/colab-badge.svg\" alt=\"Open In Colab\"/></a>"
      ]
    },
    {
      "cell_type": "markdown",
      "source": [
        "# **Functions and Collections in Python**\n",
        "1. User defined Functions,\n",
        "  * Types of functions:\n",
        "    * Standard functions\n",
        "    * User defined functions\n",
        "  * Types of functions based on IO\n",
        "    1. Functions with no IO\n",
        "    2. Functions with IO\n",
        "    3. Functions with I but no O\n",
        "    4. Functions with O but not I\n",
        "    * Anonymous Functions\n",
        "2. Parameters to functions,\n",
        "  * Arguements\n",
        "  * Parameters\n",
        "  * keyword arguements\n",
        "  * Default parameters\n",
        "3. Recursive functions.\n",
        "4. Lists,\n",
        "5. Tuples,\n",
        "6. Dictionaries,\n",
        "7. Strings.\n",
        "\n"
      ],
      "metadata": {
        "id": "8AA0JPIQ246n"
      }
    },
    {
      "cell_type": "code",
      "source": [
        "#Program to illustrate the need of functions\n",
        "name1 = input(\"Enter the name: \")\n",
        "age1 = int(input(\"Enter the age: \"))\n",
        "print(\"The name is {} and age is {}\".format(name1, age1))\n",
        "name2 = input(\"Enter the name: \")\n",
        "age2 = int(input(\"Enter the age: \"))\n",
        "print(\"The name is {} and age is {}\".format(name2, age2))\n",
        "name3 = input(\"Enter the name: \")\n",
        "age3 = int(input(\"Enter the age: \"))\n",
        "print(\"The name is {} and age is {}\".format(name3, age3))"
      ],
      "metadata": {
        "colab": {
          "base_uri": "https://localhost:8080/"
        },
        "id": "dPRnD2YTHIVo",
        "outputId": "f53e6632-33d1-4a84-c056-250db9f38e71"
      },
      "execution_count": 2,
      "outputs": [
        {
          "output_type": "stream",
          "name": "stdout",
          "text": [
            "Enter the name: sk\n",
            "Enter the age: 40\n",
            "The name is sk and age is 40\n",
            "Enter the name: mk\n",
            "Enter the age: 42\n",
            "The name is mk and age is 42\n",
            "Enter the name: jk\n",
            "Enter the age: 13\n",
            "The name is jk and age is 13\n"
          ]
        }
      ]
    },
    {
      "cell_type": "code",
      "source": [
        "#Defining and using the functions\n",
        "#Callee\n",
        "def read():\n",
        "  name = input(\"Enter the name: \")\n",
        "  age = int(input(\"Enter the age: \"))\n",
        "  return name, age\n",
        "\n",
        "def display(n,a):#Callee\n",
        "  print(\"The name is {} and age is {}\".format(n, a))\n",
        "\n",
        "#Driver Code\n",
        "if __name__ == \"__main__\":\n",
        "  n, a = read()\n",
        "  display(n,a)#Calling the function with parameters"
      ],
      "metadata": {
        "colab": {
          "base_uri": "https://localhost:8080/"
        },
        "id": "UD_JLeR-Gidn",
        "outputId": "6a3ea6d6-2269-48d1-e91b-abdfd4600083"
      },
      "execution_count": 12,
      "outputs": [
        {
          "output_type": "stream",
          "name": "stdout",
          "text": [
            "Enter the name: s\n",
            "Enter the age: 24\n",
            "The name is s and age is 24\n"
          ]
        }
      ]
    },
    {
      "cell_type": "code",
      "source": [
        "#functions with inputs and return values\n",
        "def swap(x,y):\n",
        "  t = x\n",
        "  x = y\n",
        "  y = t\n",
        "  return x, y\n",
        "\n",
        "if __name__ == \"__main__\":\n",
        "  x = 100\n",
        "  y = 200\n",
        "  print(\"In main: x is {} and y is: {}\".format(x,y))\n",
        "  x,y = swap(x,y)\n",
        "  print(\"In main after swap: x is {} and y is: {}\".format(x,y))"
      ],
      "metadata": {
        "colab": {
          "base_uri": "https://localhost:8080/"
        },
        "id": "Nhoeyuf6HhVR",
        "outputId": "c91a3c33-7514-4569-d810-f03c2ac1d8be"
      },
      "execution_count": 13,
      "outputs": [
        {
          "output_type": "stream",
          "name": "stdout",
          "text": [
            "In main: x is 100 and y is: 200\n",
            "In main after swap: x is 200 and y is: 100\n"
          ]
        }
      ]
    },
    {
      "cell_type": "code",
      "source": [
        "#functions with no inputs and no return values\n",
        "def swap():\n",
        "  x = 100\n",
        "  y = 200\n",
        "  print(\"In function before swap: x: {} and y: {}\".format(x,y))\n",
        "  t = x\n",
        "  x = y\n",
        "  y = t\n",
        "  print(\"In function after swap: x-->{} and y-->{}\".format(x,y))\n",
        "\n",
        "\n",
        "if __name__ == \"__main__\":\n",
        "  swap()"
      ],
      "metadata": {
        "colab": {
          "base_uri": "https://localhost:8080/"
        },
        "id": "0LpPZU6_Hlbv",
        "outputId": "eca5aac7-6dcc-40cf-d1eb-415e64d2aa0f"
      },
      "execution_count": 14,
      "outputs": [
        {
          "output_type": "stream",
          "name": "stdout",
          "text": [
            "In function before swap: x: 100 and y: 200\n",
            "In function after swap: x-->200 and y-->100\n"
          ]
        }
      ]
    },
    {
      "cell_type": "code",
      "source": [
        "#Functions with arguements without return values\n",
        "def swap(x,y):\n",
        "  print(\"In function before swap: x: {} and y: {}\".format(x,y))\n",
        "  t = x\n",
        "  x = y\n",
        "  y = t\n",
        "  print(\"In function after swap: x-->{} and y-->{}\".format(x,y))\n",
        "\n",
        "if __name__ == \"__main__\":\n",
        "  swap(100,200)"
      ],
      "metadata": {
        "colab": {
          "base_uri": "https://localhost:8080/"
        },
        "id": "SBqAfU_YH1un",
        "outputId": "cfcab6fe-36a2-4cfc-ffd4-182be0c6906a"
      },
      "execution_count": 15,
      "outputs": [
        {
          "output_type": "stream",
          "name": "stdout",
          "text": [
            "In function before swap: x: 100 and y: 200\n",
            "In function after swap: x-->200 and y-->100\n"
          ]
        }
      ]
    },
    {
      "cell_type": "code",
      "source": [
        "#Functions with no input but return values\n",
        "def swap():\n",
        "  x = 100\n",
        "  y = 200\n",
        "  print(\"In function before swap: x: {} and y: {}\".format(x,y))\n",
        "  t = x\n",
        "  x = y\n",
        "  y = t\n",
        "  print(\"In function after swap: x-->{} and y-->{}\".format(x,y))\n",
        "  return x,y\n",
        "\n",
        "if __name__ == \"__main__\":\n",
        "  x,y = swap()\n",
        "  print(\"In function main: a-->{} and b-->{}\".format(x,y))"
      ],
      "metadata": {
        "colab": {
          "base_uri": "https://localhost:8080/"
        },
        "id": "9oOSiKpFHspE",
        "outputId": "9110b061-3e95-4416-fe70-57f3ba2e44d4"
      },
      "execution_count": 16,
      "outputs": [
        {
          "output_type": "stream",
          "name": "stdout",
          "text": [
            "In function before swap: x: 100 and y: 200\n",
            "In function after swap: x-->200 and y-->100\n",
            "In function main: a-->200 and b-->100\n"
          ]
        }
      ]
    },
    {
      "cell_type": "code",
      "source": [
        "#Default parameters:\n",
        "def fact(n = 0):\n",
        "  if n==0:\n",
        "    return 1\n",
        "  else:\n",
        "    return n*fact(n-1)\n",
        "\n",
        "#Function without any parameter\n",
        "print(\"Default result: \", fact())\n",
        "print(\"Factorial of 10: \",fact(10))"
      ],
      "metadata": {
        "colab": {
          "base_uri": "https://localhost:8080/"
        },
        "id": "gu-oLVuuaXIE",
        "outputId": "2c95da21-6597-4a7c-f4ff-f6b3323aacdd"
      },
      "execution_count": 18,
      "outputs": [
        {
          "output_type": "stream",
          "name": "stdout",
          "text": [
            "Default result:  1\n",
            "Factorial of 10:  3628800\n"
          ]
        }
      ]
    },
    {
      "cell_type": "code",
      "source": [
        "#Last arguements can be the only defaults\n",
        "def name(f, m, l = \"Sudarshan\"):\n",
        "  print(\"The full name of the person is: {} {} {}\".format(f,m,l))\n",
        "\n",
        "f = \"kerenalli\"\n",
        "m = 'Shekhar'\n",
        "name(f,m)"
      ],
      "metadata": {
        "colab": {
          "base_uri": "https://localhost:8080/"
        },
        "id": "vIPlJoNfa5V7",
        "outputId": "a4ae8688-b35e-42fe-e0b2-0a093415d747"
      },
      "execution_count": 19,
      "outputs": [
        {
          "output_type": "stream",
          "name": "stdout",
          "text": [
            "The full name of the person is: kerenalli Shekhar Sudarshan\n"
          ]
        }
      ]
    },
    {
      "cell_type": "code",
      "source": [
        "#keyword arguements\n",
        "def name(f, m,l):#f,m,l are formal parameters or parameters\n",
        "  print(\"The full name of the person is: {} {} {}\".format(f,m,l))\n",
        "\n",
        "name(f = \"kerenalli\", l = \"sudarshan\",m = 'Shekhar')#f, m, l are called actual parameters or arguements\n",
        "\n",
        "#Order of the keywords does not matter:\n",
        "name(f = \"kerenalli\", m = 'Shekhar',l = \"sudarshan\")\n",
        "name(m = 'Shekhar',f = \"kerenalli\",l = \"sudarshan\")\n"
      ],
      "metadata": {
        "colab": {
          "base_uri": "https://localhost:8080/"
        },
        "id": "UEoHKRQ6ZZhM",
        "outputId": "33d1abee-9d65-4331-c8bb-70978abd57fc"
      },
      "execution_count": 21,
      "outputs": [
        {
          "output_type": "stream",
          "name": "stdout",
          "text": [
            "The full name of the person is: kerenalli Shekhar sudarshan\n",
            "The full name of the person is: kerenalli Shekhar sudarshan\n",
            "The full name of the person is: kerenalli Shekhar sudarshan\n"
          ]
        }
      ]
    },
    {
      "cell_type": "code",
      "execution_count": 22,
      "metadata": {
        "id": "9_OL07Yv21Sn",
        "colab": {
          "base_uri": "https://localhost:8080/"
        },
        "outputId": "20d71eba-b690-4561-bd7a-c0391adbf525"
      },
      "outputs": [
        {
          "output_type": "stream",
          "name": "stdout",
          "text": [
            "Enter the first name: s\n",
            "Enter the middle name: k\n",
            "Enter the last name: m\n",
            "The person name is:s m k\n",
            "The person name is:s k m\n",
            "The person name is:m s k\n"
          ]
        }
      ],
      "source": [
        "#keyword arguements\n",
        "def name(fname, lname, mname):\n",
        "  print(\"The person name is:{} {} {}\".format(fname,mname,lname))\n",
        "\n",
        "f = input(\"Enter the first name: \")\n",
        "m = input(\"Enter the middle name: \")\n",
        "l = input(\"Enter the last name: \")\n",
        "name(f,m,l)\n",
        "name(f,l,m)\n",
        "name(l,m,f)"
      ]
    },
    {
      "cell_type": "code",
      "source": [
        "#keyword arguements\n",
        "def name(fname, lname, mname):\n",
        "  print(\"The person name is:{} {} {}\".format(fname,mname,lname))\n",
        "\n",
        "f = input(\"Enter the first name: \")\n",
        "m = input(\"Enter the middle name: \")\n",
        "l = input(\"Enter the last name: \")\n",
        "name(fname=f,mname=m,lname=l)"
      ],
      "metadata": {
        "id": "qLsaXU8z24S0",
        "colab": {
          "base_uri": "https://localhost:8080/"
        },
        "outputId": "01bebd60-8f88-4d88-9d7e-704f779c2731"
      },
      "execution_count": 23,
      "outputs": [
        {
          "output_type": "stream",
          "name": "stdout",
          "text": [
            "Enter the first name: s\n",
            "Enter the middle name: k\n",
            "Enter the last name: m\n",
            "The person name is:s k m\n"
          ]
        }
      ]
    },
    {
      "cell_type": "code",
      "source": [
        "#Variable length arguements\n",
        "def name(*args):\n",
        "  for item in range(len(args)):\n",
        "    print(args[item])\n",
        "\n",
        "f = input(\"Enter the first name: \")\n",
        "name(f)"
      ],
      "metadata": {
        "colab": {
          "base_uri": "https://localhost:8080/"
        },
        "id": "-4UzYRX7ddw6",
        "outputId": "db601e1b-b558-4f0b-b03e-9f5cfc9cedab"
      },
      "execution_count": 24,
      "outputs": [
        {
          "output_type": "stream",
          "name": "stdout",
          "text": [
            "Enter the first name: sudarshan\n",
            "sudarshan\n"
          ]
        }
      ]
    },
    {
      "cell_type": "code",
      "source": [
        "f = input(\"Enter the first name: \")\n",
        "m = input(\"Enter the middle name: \")\n",
        "name(f,m)"
      ],
      "metadata": {
        "id": "Y-9O2qi2eT9D",
        "colab": {
          "base_uri": "https://localhost:8080/"
        },
        "outputId": "2abaebc8-face-45fe-bdbd-294f32d0ef66"
      },
      "execution_count": 25,
      "outputs": [
        {
          "output_type": "stream",
          "name": "stdout",
          "text": [
            "Enter the first name: sudarshana\n",
            "Enter the middle name: kerenalli\n",
            "sudarshana\n",
            "kerenalli\n"
          ]
        }
      ]
    },
    {
      "cell_type": "code",
      "source": [
        "f = input(\"Enter the first name: \")\n",
        "m = input(\"Enter the middle name: \")\n",
        "l = input(\"Enter the last name: \")\n",
        "name(f,m,l)"
      ],
      "metadata": {
        "colab": {
          "base_uri": "https://localhost:8080/"
        },
        "id": "qlcQ56BZd8-7",
        "outputId": "aaea9f40-6758-4a3f-9ee7-badaf607829a"
      },
      "execution_count": 26,
      "outputs": [
        {
          "output_type": "stream",
          "name": "stdout",
          "text": [
            "Enter the first name: sudarshana\n",
            "Enter the middle name: kerenalli\n",
            "Enter the last name: shekhar\n",
            "sudarshana\n",
            "kerenalli\n",
            "shekhar\n"
          ]
        }
      ]
    },
    {
      "cell_type": "code",
      "source": [
        "#variable lentgth key word arguements\n",
        "def name(**kwargs):\n",
        "  print(\"Full name: {} {} {} {}\".format(kwargs[\"init\"],kwargs[\"fname\"],kwargs[\"mname\"],kwargs[\"lname\"]))\n",
        "\n",
        "f = input(\"Enter the first name: \")\n",
        "m = input(\"Enter the middle name: \")\n",
        "l = input(\"Enter the last name: \")\n",
        "name(init = \"mr\", fname=f,mname=m,lname=l)"
      ],
      "metadata": {
        "colab": {
          "base_uri": "https://localhost:8080/"
        },
        "id": "QDcKRfAKe9a6",
        "outputId": "1279a0b9-10d6-4e5a-a80e-5fef5055ce76"
      },
      "execution_count": 28,
      "outputs": [
        {
          "output_type": "stream",
          "name": "stdout",
          "text": [
            "Enter the first name: sudarshana\n",
            "Enter the middle name: shekhar\n",
            "Enter the last name: kerenalli\n",
            "Full name: mr sudarshana shekhar kerenalli\n"
          ]
        }
      ]
    },
    {
      "cell_type": "code",
      "source": [
        "name(fname=f,mname=m,lname=l,init = \"mr\")"
      ],
      "metadata": {
        "colab": {
          "base_uri": "https://localhost:8080/"
        },
        "id": "FSeyxuyAL8Vh",
        "outputId": "7b63d266-0179-414d-dbd7-e75e54f5d16d"
      },
      "execution_count": 29,
      "outputs": [
        {
          "output_type": "stream",
          "name": "stdout",
          "text": [
            "Full name: mr sudarshana shekhar kerenalli\n"
          ]
        }
      ]
    },
    {
      "cell_type": "code",
      "source": [
        "#write a function to print the arbitrary number of values\n",
        "def display(**kwargs):\n",
        "  print(kwargs[\"one\"])\n",
        "  print(kwargs[\"two\"])\n",
        "  print(kwargs[\"thr\"])\n",
        "display(one=1, two=2, thr = 3)"
      ],
      "metadata": {
        "colab": {
          "base_uri": "https://localhost:8080/"
        },
        "id": "AVMDLJ1OjVP0",
        "outputId": "be39c95b-7a17-4ab0-ed9d-664646e4a86d"
      },
      "execution_count": 30,
      "outputs": [
        {
          "output_type": "stream",
          "name": "stdout",
          "text": [
            "1\n",
            "2\n",
            "3\n"
          ]
        }
      ]
    },
    {
      "cell_type": "code",
      "source": [
        "#Anonymous Functions\n",
        "if __name__ == \"__main__\":\n",
        "  x = 10\n",
        "  xsq = lambda x: x*x\n",
        "  print(\"The square of {} is {}\".format(x, xsq(x)))"
      ],
      "metadata": {
        "colab": {
          "base_uri": "https://localhost:8080/"
        },
        "id": "sYYwPlTcLwne",
        "outputId": "01dd0340-860c-4180-bd63-88504ee06849"
      },
      "execution_count": 31,
      "outputs": [
        {
          "output_type": "stream",
          "name": "stdout",
          "text": [
            "The square of 10 is 100\n"
          ]
        }
      ]
    },
    {
      "cell_type": "code",
      "source": [
        "import math\n",
        "if __name__ == \"__main__\":\n",
        "  x = 10\n",
        "  xsqrt = lambda x: math.sqrt(x)\n",
        "  print(\"The square of {} is {}\".format(x, xsqrt(x)))"
      ],
      "metadata": {
        "colab": {
          "base_uri": "https://localhost:8080/"
        },
        "id": "2qc9PAotMznT",
        "outputId": "654d1a69-5df3-4700-89a1-4cd3a3886981"
      },
      "execution_count": 32,
      "outputs": [
        {
          "output_type": "stream",
          "name": "stdout",
          "text": [
            "The square of 10 is 3.1622776601683795\n"
          ]
        }
      ]
    },
    {
      "cell_type": "code",
      "source": [
        "#Recursive Function\n",
        "def fib(n):\n",
        "  return n if n==0 or n==1 else (fib(n-1)+fib(n-2))\n",
        "\n",
        "if __name__ == \"__main__\":\n",
        "  n = int(input(\"Enter the number: \"))\n",
        "  print(\"First {} fibonacci numbers are: \".format(n))\n",
        "  for i in range(n):\n",
        "    print(fib(i))"
      ],
      "metadata": {
        "colab": {
          "base_uri": "https://localhost:8080/"
        },
        "id": "6-gTklmfMXzS",
        "outputId": "0117fdc3-61db-479d-a0f4-7ff8e1347867"
      },
      "execution_count": 34,
      "outputs": [
        {
          "output_type": "stream",
          "name": "stdout",
          "text": [
            "Enter the number: 10\n",
            "First 10 fibonacci numbers are: \n",
            "0\n",
            "1\n",
            "1\n",
            "2\n",
            "3\n",
            "5\n",
            "8\n",
            "13\n",
            "21\n",
            "34\n"
          ]
        }
      ]
    }
  ]
}