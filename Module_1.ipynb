{
  "nbformat": 4,
  "nbformat_minor": 0,
  "metadata": {
    "colab": {
      "provenance": [],
      "authorship_tag": "ABX9TyOdBTHxKg+R56akFx+8ejqC",
      "include_colab_link": true
    },
    "kernelspec": {
      "name": "python3",
      "display_name": "Python 3"
    },
    "language_info": {
      "name": "python"
    }
  },
  "cells": [
    {
      "cell_type": "markdown",
      "metadata": {
        "id": "view-in-github",
        "colab_type": "text"
      },
      "source": [
        "<a href=\"https://colab.research.google.com/github/kerenalli/Python/blob/main/Module_1.ipynb\" target=\"_parent\"><img src=\"https://colab.research.google.com/assets/colab-badge.svg\" alt=\"Open In Colab\"/></a>"
      ]
    },
    {
      "cell_type": "markdown",
      "source": [
        "# **Module 1.**\n",
        "\n",
        "  * Python Input/output statements,\n",
        "  * Numbers,\n",
        "  * Strings,\n",
        "  * Variables,\n",
        "  * Operators,\n",
        "  * Expressions and statements,\n",
        "  * String operations,\n",
        "  * Math function calls,\n",
        "  * Conditional If,\n",
        "  * Loops: while and for.\n"
      ],
      "metadata": {
        "id": "Z7H2-2MH4jJg"
      }
    },
    {
      "cell_type": "markdown",
      "source": [
        "# **Strings**"
      ],
      "metadata": {
        "id": "ghAEOySbjhzX"
      }
    },
    {
      "cell_type": "code",
      "source": [
        "fname  = 'sudarshana'\n",
        "lname = \"Kerenalli\"\n",
        "#print(\"The variable type of \", fname, \" is: \", type(fname))\n",
        "#print(\"The variable type of \", lname, \" is: \", type(lname))\n",
        "\n",
        "#print(\"The 10th character in the given string is: \",fname[9] )\n",
        "#print(\"The 3rd to 8th characters in the given string are: \",fname[:4])\n",
        "\n",
        "#Negative indexing\n",
        "#print(\"The 3rd to 8th characters in the given string are: \",fname[-8:-2])\n",
        "\n",
        "#String concatination\n",
        "#print(\"The concatinated string is: \", fname+lname)\n",
        "\n",
        "#print(\"The concatinated string is: \", lname+fname)\n",
        "new_name = fname+lname\n",
        "#print(new_name)\n",
        "#z = new_name.split('a')\n",
        "#print(z)\n",
        "\n",
        "#print(\"The length of the fname is: \",len(fname))\n",
        "\n",
        "for i in range(len(fname)):\n",
        "  print(fname[i])"
      ],
      "metadata": {
        "colab": {
          "base_uri": "https://localhost:8080/"
        },
        "id": "B_YYRr5Fjjft",
        "outputId": "e0e6ff8e-d4c4-4146-a1ab-aeb88c386a48"
      },
      "execution_count": null,
      "outputs": [
        {
          "output_type": "stream",
          "name": "stdout",
          "text": [
            "s\n",
            "u\n",
            "d\n",
            "a\n",
            "r\n",
            "s\n",
            "h\n",
            "a\n",
            "n\n",
            "a\n"
          ]
        }
      ]
    },
    {
      "cell_type": "markdown",
      "source": [],
      "metadata": {
        "id": "mP-rLk2Zpz4_"
      }
    },
    {
      "cell_type": "code",
      "source": [
        "def display():\n",
        "  #x = 20 #local variable\n",
        "  print(\"The value of x inside display(): \", x)\n",
        "\n",
        "x = 100 #Global variable\n",
        "display()\n",
        "print(x)"
      ],
      "metadata": {
        "colab": {
          "base_uri": "https://localhost:8080/"
        },
        "id": "VFZmZyO7hH05",
        "outputId": "5a6a0649-586f-43f4-8d1a-515972967419"
      },
      "execution_count": null,
      "outputs": [
        {
          "output_type": "stream",
          "name": "stdout",
          "text": [
            "The value of x inside display():  100\n",
            "100\n"
          ]
        }
      ]
    },
    {
      "cell_type": "code",
      "source": [],
      "metadata": {
        "id": "T4PKejQadCTx"
      },
      "execution_count": null,
      "outputs": []
    },
    {
      "cell_type": "code",
      "execution_count": null,
      "metadata": {
        "colab": {
          "base_uri": "https://localhost:8080/"
        },
        "id": "nmIxzQ2b4Duq",
        "outputId": "f0052908-9aaa-4145-cf9b-1fc4d40958a5"
      },
      "outputs": [
        {
          "output_type": "stream",
          "name": "stdout",
          "text": [
            "Hello Welcome to Python. \n"
          ]
        }
      ],
      "source": [
        "print(\"Hello Welcome to Python. \")\n",
        "# the above function prints the statement on to the monitor."
      ]
    },
    {
      "cell_type": "code",
      "source": [
        "x = input(\"Enter the information. \")#Input op\n",
        "print(x)  #Output"
      ],
      "metadata": {
        "colab": {
          "base_uri": "https://localhost:8080/"
        },
        "id": "OwRKRPj96IGR",
        "outputId": "b7ab0cc6-4784-4c6d-bc8c-9a033552783a"
      },
      "execution_count": null,
      "outputs": [
        {
          "output_type": "stream",
          "name": "stdout",
          "text": [
            "Enter the information. hi\n",
            "hi\n"
          ]
        }
      ]
    },
    {
      "cell_type": "markdown",
      "source": [
        "# **2. Numbers**\n",
        "3 types of numbers are:\n",
        "* Integers: They are the whole numbers including 0.\n",
        "  * 10, -4\n",
        "* Real Numbers/Floating point numbers: They are the integers with decimal portions.\n",
        "  * 12.06, 134e-34\n",
        "* Complex numbers: They are the real numbers with imaginary part\n",
        "  * 3+4j, 3.05, -5"
      ],
      "metadata": {
        "id": "yFELXQGs8GSm"
      }
    },
    {
      "cell_type": "code",
      "source": [
        "x = 20\n",
        "y = -12.0765\n",
        "z = 4+3j\n",
        "\n",
        "print(\"The data type of \", x, \" is: \", type(x))"
      ],
      "metadata": {
        "colab": {
          "base_uri": "https://localhost:8080/"
        },
        "id": "laMUSjqw--pq",
        "outputId": "89508b05-d7a7-4598-a0ee-c1fea317c19a"
      },
      "execution_count": null,
      "outputs": [
        {
          "output_type": "stream",
          "name": "stdout",
          "text": [
            "The data type of  20  is:  <class 'int'>\n"
          ]
        }
      ]
    },
    {
      "cell_type": "code",
      "source": [
        "x = input(\"Enter the data. \")\n",
        "print(\"The value \", x, \" is of \", type(x),\" .\")\n",
        "#Type casting\n",
        "y = int(x)\n",
        "print(\"Now the value \", x, \" is of \", type(y),\" .\")"
      ],
      "metadata": {
        "colab": {
          "base_uri": "https://localhost:8080/"
        },
        "id": "0G5K39MiB5Zz",
        "outputId": "498b6acb-180f-4dd6-e22f-492809f6e8bf"
      },
      "execution_count": null,
      "outputs": [
        {
          "output_type": "stream",
          "name": "stdout",
          "text": [
            "Enter the data. 12\n",
            "The value  12  is of  <class 'str'>  .\n",
            "Now the value  12  is of  <class 'int'>  .\n"
          ]
        }
      ]
    },
    {
      "cell_type": "markdown",
      "source": [
        "# **3. Variables**\n",
        "* Named memory locations, they contain the information\n",
        "* Types of variable:\n",
        "  * Local variables\n",
        "  * Global variables"
      ],
      "metadata": {
        "id": "_D1NmFDXIbR8"
      }
    },
    {
      "cell_type": "code",
      "source": [
        "def display():\n",
        "  x = \"Kerenalli\"\n",
        "  print(\"Local value of \",x)\n",
        "\n",
        "x = \"Sudarshana\"\n",
        "print(\"Global value of \", x)\n",
        "display()"
      ],
      "metadata": {
        "colab": {
          "base_uri": "https://localhost:8080/"
        },
        "id": "vc8l1XXmVBnG",
        "outputId": "969c3712-b76f-498d-9351-d8addce88127"
      },
      "execution_count": null,
      "outputs": [
        {
          "output_type": "stream",
          "name": "stdout",
          "text": [
            "Global value of  Sudarshana\n",
            "Local value of  Kerenalli\n"
          ]
        }
      ]
    },
    {
      "cell_type": "code",
      "source": [
        "#Global keyword\n",
        "def display():\n",
        "  global x\n",
        "  x = \"Kerenalli\"\n",
        "  print(\"Local value of \",x)\n",
        "\n",
        "\n",
        "print(\"Global value of \", x)\n",
        "display()"
      ],
      "metadata": {
        "colab": {
          "base_uri": "https://localhost:8080/"
        },
        "id": "9Ax8a-BRV9zJ",
        "outputId": "a0583862-7bcc-4364-8299-d3d56f155ec7"
      },
      "execution_count": null,
      "outputs": [
        {
          "output_type": "stream",
          "name": "stdout",
          "text": [
            "Global value of  Kerenalli\n",
            "Local value of  Kerenalli\n"
          ]
        }
      ]
    },
    {
      "cell_type": "markdown",
      "source": [
        "# **4. Data types**\n",
        "  * Numeric types:\n",
        "    * int,\n",
        "    * float,\n",
        "    * complex\n",
        "  * String or text types:     \n",
        "   * characters\n",
        "   * strings\n",
        "  * Collections:\n",
        "    * Lists\n",
        "    * Tuples\n",
        "    * Sets\n",
        "    * Dictionaries\n",
        "  * Binary Types\n",
        "    * bytes\n",
        "    * bytearray\n",
        "    * memoryview\n",
        "  * Boolean\n",
        "    * bool\n",
        "  * None Type\n",
        "    * NoneType"
      ],
      "metadata": {
        "id": "Vmn9sPGHVAKg"
      }
    },
    {
      "cell_type": "code",
      "source": [
        "b = b\"GoodMorning\"\n",
        "#The data will be stored in the binary format\n",
        "for i in range(len(b)):\n",
        "  print(b[i])\n",
        "#print(type(b))\n",
        "#b[0] = ord('g')\n",
        "print(b)"
      ],
      "metadata": {
        "colab": {
          "base_uri": "https://localhost:8080/",
          "height": 420
        },
        "id": "5O8SA2YnqtL_",
        "outputId": "4c7f59aa-68c0-4094-d7a6-2120e1bf153e"
      },
      "execution_count": null,
      "outputs": [
        {
          "output_type": "stream",
          "name": "stdout",
          "text": [
            "71\n",
            "111\n",
            "111\n",
            "100\n",
            "77\n",
            "111\n",
            "114\n",
            "110\n",
            "105\n",
            "110\n",
            "103\n"
          ]
        },
        {
          "output_type": "error",
          "ename": "TypeError",
          "evalue": "ignored",
          "traceback": [
            "\u001b[0;31m---------------------------------------------------------------------------\u001b[0m",
            "\u001b[0;31mTypeError\u001b[0m                                 Traceback (most recent call last)",
            "\u001b[0;32m<ipython-input-9-9ced32f956ab>\u001b[0m in \u001b[0;36m<cell line: 6>\u001b[0;34m()\u001b[0m\n\u001b[1;32m      4\u001b[0m   \u001b[0mprint\u001b[0m\u001b[0;34m(\u001b[0m\u001b[0mb\u001b[0m\u001b[0;34m[\u001b[0m\u001b[0mi\u001b[0m\u001b[0;34m]\u001b[0m\u001b[0;34m)\u001b[0m\u001b[0;34m\u001b[0m\u001b[0;34m\u001b[0m\u001b[0m\n\u001b[1;32m      5\u001b[0m \u001b[0;31m#print(type(b))\u001b[0m\u001b[0;34m\u001b[0m\u001b[0;34m\u001b[0m\u001b[0m\n\u001b[0;32m----> 6\u001b[0;31m \u001b[0mb\u001b[0m\u001b[0;34m[\u001b[0m\u001b[0;36m0\u001b[0m\u001b[0;34m]\u001b[0m \u001b[0;34m=\u001b[0m \u001b[0mord\u001b[0m\u001b[0;34m(\u001b[0m\u001b[0;34m'g'\u001b[0m\u001b[0;34m)\u001b[0m\u001b[0;34m\u001b[0m\u001b[0;34m\u001b[0m\u001b[0m\n\u001b[0m\u001b[1;32m      7\u001b[0m \u001b[0mprint\u001b[0m\u001b[0;34m(\u001b[0m\u001b[0mb\u001b[0m\u001b[0;34m)\u001b[0m\u001b[0;34m\u001b[0m\u001b[0;34m\u001b[0m\u001b[0m\n",
            "\u001b[0;31mTypeError\u001b[0m: 'bytes' object does not support item assignment"
          ]
        }
      ]
    },
    {
      "cell_type": "code",
      "source": [
        "ba = bytearray(b)\n",
        "print(ba)\n",
        "print(type(ba))\n",
        "#Changing the content of ba\n",
        "ba[0] = ord(\"M\")\n",
        "print(ba)\n",
        "\n",
        "#memoryview\n",
        "mv = memoryview(ba)\n",
        "print(mv)\n",
        "print(type(mv))"
      ],
      "metadata": {
        "colab": {
          "base_uri": "https://localhost:8080/"
        },
        "id": "8x15nfrAuycU",
        "outputId": "6f71c2a6-efc7-4805-f7dd-cc3e658248cb"
      },
      "execution_count": null,
      "outputs": [
        {
          "output_type": "stream",
          "name": "stdout",
          "text": [
            "bytearray(b'GoodMorning')\n",
            "<class 'bytearray'>\n",
            "bytearray(b'MoodMorning')\n",
            "<memory at 0x7b6a7d38fd00>\n",
            "<class 'memoryview'>\n"
          ]
        }
      ]
    },
    {
      "cell_type": "code",
      "source": [
        "#Nonetype\n",
        "n = None\n",
        "print(n, \" is of type \", type(n))"
      ],
      "metadata": {
        "colab": {
          "base_uri": "https://localhost:8080/",
          "height": 229
        },
        "id": "zpWuBUpiyDYL",
        "outputId": "68a9e3b4-24f7-416c-fd75-704ae8ea4231"
      },
      "execution_count": null,
      "outputs": [
        {
          "output_type": "stream",
          "name": "stdout",
          "text": [
            "None  is of type  <class 'NoneType'>\n"
          ]
        },
        {
          "output_type": "error",
          "ename": "TypeError",
          "evalue": "ignored",
          "traceback": [
            "\u001b[0;31m---------------------------------------------------------------------------\u001b[0m",
            "\u001b[0;31mTypeError\u001b[0m                                 Traceback (most recent call last)",
            "\u001b[0;32m<ipython-input-17-961dc4a555de>\u001b[0m in \u001b[0;36m<cell line: 4>\u001b[0;34m()\u001b[0m\n\u001b[1;32m      2\u001b[0m \u001b[0mn\u001b[0m \u001b[0;34m=\u001b[0m \u001b[0;32mNone\u001b[0m\u001b[0;34m\u001b[0m\u001b[0;34m\u001b[0m\u001b[0m\n\u001b[1;32m      3\u001b[0m \u001b[0mprint\u001b[0m\u001b[0;34m(\u001b[0m\u001b[0mn\u001b[0m\u001b[0;34m,\u001b[0m \u001b[0;34m\" is of type \"\u001b[0m\u001b[0;34m,\u001b[0m \u001b[0mtype\u001b[0m\u001b[0;34m(\u001b[0m\u001b[0mn\u001b[0m\u001b[0;34m)\u001b[0m \u001b[0;34m)\u001b[0m\u001b[0;34m\u001b[0m\u001b[0;34m\u001b[0m\u001b[0m\n\u001b[0;32m----> 4\u001b[0;31m \u001b[0mint\u001b[0m\u001b[0;34m(\u001b[0m\u001b[0mn\u001b[0m\u001b[0;34m)\u001b[0m\u001b[0;34m\u001b[0m\u001b[0;34m\u001b[0m\u001b[0m\n\u001b[0m",
            "\u001b[0;31mTypeError\u001b[0m: int() argument must be a string, a bytes-like object or a real number, not 'NoneType'"
          ]
        }
      ]
    },
    {
      "cell_type": "code",
      "source": [
        "ba = bytearray(b'Hello')\n",
        "print(ba)\n",
        "ba[0]= ord(\"M\")\n",
        "ba"
      ],
      "metadata": {
        "colab": {
          "base_uri": "https://localhost:8080/"
        },
        "id": "dHthRbg8rkwB",
        "outputId": "307b710d-2ad9-48c5-8228-1d3e3d6c26e8"
      },
      "execution_count": null,
      "outputs": [
        {
          "output_type": "stream",
          "name": "stdout",
          "text": [
            "bytearray(b'Hello')\n"
          ]
        },
        {
          "output_type": "execute_result",
          "data": {
            "text/plain": [
              "bytearray(b'Mello')"
            ]
          },
          "metadata": {},
          "execution_count": 38
        }
      ]
    },
    {
      "cell_type": "code",
      "source": [
        "b = 0\n",
        "print(type(bool(b)))"
      ],
      "metadata": {
        "colab": {
          "base_uri": "https://localhost:8080/"
        },
        "id": "IHyOR5mWt4Jy",
        "outputId": "35c34cab-978a-4a78-e373-b444ccf51508"
      },
      "execution_count": null,
      "outputs": [
        {
          "output_type": "stream",
          "name": "stdout",
          "text": [
            "<class 'bool'>\n"
          ]
        }
      ]
    },
    {
      "cell_type": "code",
      "source": [
        "x = list((1,2,3,4,5))\n",
        "print(x)\n",
        "x.append(11)\n",
        "print(x)\n",
        "x.insert(3,9)\n",
        "print(x)\n",
        "print(x.reverse())\n",
        "y = tuple((1,2,3,4))\n",
        "print(y)\n",
        "z = set((1,2,3,4,5))\n",
        "print(z)\n",
        "w = dict({\"maruti\":\"800\",\"mahindra\":\"bolero\",\"tata\": \"indica\",\"hynduai\":\"creta\"})\n",
        "print(w.values())\n",
        "print(w.keys())"
      ],
      "metadata": {
        "colab": {
          "base_uri": "https://localhost:8080/"
        },
        "id": "YD_jQe0MMAzG",
        "outputId": "1319fc0f-7126-4816-8ca6-20f119f4dede"
      },
      "execution_count": null,
      "outputs": [
        {
          "output_type": "stream",
          "name": "stdout",
          "text": [
            "[1, 2, 3, 4, 5]\n",
            "[1, 2, 3, 4, 5, 11]\n",
            "[1, 2, 3, 9, 4, 5, 11]\n",
            "None\n",
            "(1, 2, 3, 4)\n",
            "{1, 2, 3, 4, 5}\n",
            "dict_values(['800', 'bolero', 'indica', 'creta'])\n",
            "dict_keys(['maruti', 'mahindra', 'tata', 'hynduai'])\n"
          ]
        }
      ]
    },
    {
      "cell_type": "markdown",
      "source": [
        "# **Operators**\n",
        "1. Arithmetic Operators\n",
        "  1. Addition + ==> a + b\n",
        "  2. Subtraction - ==> a - b\n",
        "  3. Multiplication * ==> a * b\n",
        "  4. Division / ==> x / y\n",
        "  5. Floor Division // ==> x//y\n",
        "  6. Remainder % x % y\n",
        "  7. power : x**y\n",
        "2. Relational or Comparison operators:\n",
        "  1. Equal: == ==> x == y\n",
        "  2. Not Equals: != ==> x != y\n",
        "  3. greater than: > ==> x>y\n",
        "  4. less than: <\n",
        "  5. greater than or equal: x >= y\n",
        "  6. less than or equal : x <= y\n",
        "3. Logical Operators:\n",
        "  1. AND : and ==> x and y\n",
        "  2. OR: or ==> x or y\n",
        "  3. not:  not x\n",
        "4. Bitwise operators:\n",
        "  1. bitwise and & ==> x & y\n",
        "  2. biwise or: | ==> x | y\n",
        "  3. bitwise not: ~ ==> ~x\n",
        "  4. bitwise xor: ^ ==> x ^ y\n",
        "  5. leftshift : <<\n",
        "  6. right shift: >>: ==> x >> y\n",
        "5. Shorthand notations:\n",
        "  1.  += : x += y ==> x = x + y\n",
        "6. Membership operator\n",
        "  1. in\n",
        "  2. not in\n",
        "7. Identity operator\n",
        "  1. is\n",
        "  2. is not\n",
        "\n",
        "\n"
      ],
      "metadata": {
        "id": "Swyshsa7uf8g"
      }
    },
    {
      "cell_type": "code",
      "source": [
        "x = int(input(\"Enter the number 1: \"))\n",
        "y = int(input(\"Enter the number 2: \"))\n",
        "\n",
        "#Arithmetic operators\n",
        "print(\"Addition of \", x, \" and \", y, \" is: \", x+y)\n",
        "print(\"Difference of \", x, \" and \", y, \" is: \", x-y)\n",
        "print(\"Product of \", x, \" and \", y, \" is: \", x*y)\n",
        "print(\"Quotient of \", x, \" by \", y, \" is: \", x/y)\n",
        "print(\"Integer quotient of \", x, \" by \", y, \" is: \", x//y)\n",
        "print(\"Remainder of \", x, \" by \", y, \" is: \", x%y)\n",
        "print(\"Power of \", x, \" raised \", y, \" is: \", x**y)\n",
        "\n",
        "#logical operations:\n",
        "print(x, \" and \", y, \" is: \", x and y)\n",
        "print(x, \" or \", y, \" is: \", x or y)\n",
        "print(x, \" not \", x, \" is: \", not x)\n",
        "\n",
        "#bitwise operators\n",
        "print(x, \" bitwise and \", y, \" is: \", x & y)\n",
        "print(x, \" bitwise or \", y, \" is: \", x | y)\n",
        "print(x, \" bitwise xor \", y, \" is: \", x ^ y)\n",
        "print(x, \" bitwise not \", x, \" is: \", ~x)\n",
        "print(x, \" bitwise xor \", y, \" is: \", x ^ y)\n",
        "print(x, \" leftshift \", y, \" is: \", x << y)\n",
        "print(x, \" rightshift \", y, \" is: \", x << y)\n",
        "\n",
        "#Relational operators\n",
        "print(\"Are \", x, \" and \",y, \" equal?: \", x == y)\n",
        "print(\"Are \", x, \" and \",y, \" not equal?: \", x != y)\n",
        "print(\"Is \", x, \" is greater than \",y, \"?: \", x > y)\n",
        "print(\"Is \", x, \" is greater than or equal to \",y, \"?: \", x >= y)\n",
        "print(\"Is \", x, \" is less than \",y, \"?: \", x < y)\n",
        "print(\"Is \", x, \" is less than or equal to \",y, \"?: \", x <= y)"
      ],
      "metadata": {
        "colab": {
          "base_uri": "https://localhost:8080/"
        },
        "id": "nsA2_-xky0cx",
        "outputId": "6942d478-54d2-4728-f38a-65a396863dfd"
      },
      "execution_count": null,
      "outputs": [
        {
          "output_type": "stream",
          "name": "stdout",
          "text": [
            "Enter the number 1: 10\n",
            "Enter the number 2: 2\n",
            "Addition of  10  and  2  is:  12\n",
            "Difference of  10  and  2  is:  8\n",
            "Product of  10  and  2  is:  20\n",
            "Quotient of  10  by  2  is:  5.0\n",
            "Integer quotient of  10  by  2  is:  5\n",
            "Remainder of  10  by  2  is:  0\n",
            "Power of  10  raised  2  is:  100\n",
            "10  and  2  is:  2\n",
            "10  or  2  is:  10\n",
            "10  not  10  is:  False\n",
            "10  bitwise and  2  is:  2\n",
            "10  bitwise or  2  is:  10\n",
            "10  bitwise xor  2  is:  8\n",
            "10  bitwise not  10  is:  -11\n",
            "10  bitwise xor  2  is:  8\n",
            "10  leftshift  2  is:  40\n",
            "10  rightshift  2  is:  40\n",
            "Are  10  and  2  equal?:  False\n",
            "Are  10  and  2  not equal?:  True\n",
            "Is  10  is greater than  2 ?:  True\n",
            "Is  10  is greater than or equal to  2 ?:  True\n",
            "Is  10  is less than  2 ?:  False\n",
            "Is  10  is less than or equal to  2 ?:  False\n"
          ]
        }
      ]
    },
    {
      "cell_type": "code",
      "source": [
        "#Member operator\n",
        "x = [\"kannada\", \"telugu\", \"tamil\", \"malayalam\", \"tulu\"]\n",
        "y = input(\"Enter the language:  \")\n",
        "print(\"Yes \"+ y + \" is a Dravidian language\") if y in x else print((\"No \"+ y +\" is not a Dravidian language\"))"
      ],
      "metadata": {
        "colab": {
          "base_uri": "https://localhost:8080/"
        },
        "id": "w0OhvK-y5lEy",
        "outputId": "5ce14159-db0c-4dc4-abe2-c2a6894c0116"
      },
      "execution_count": null,
      "outputs": [
        {
          "output_type": "stream",
          "name": "stdout",
          "text": [
            "Enter the language:  bengali\n",
            "No bengali is not a Dravidian language\n"
          ]
        }
      ]
    },
    {
      "cell_type": "code",
      "source": [
        "#Identity operator: is\n",
        "x = [\"kannada\", \"telugu\", \"tamil\", \"malayalam\", \"tulu\"]\n",
        "y = [\"hindi\", \"bengali\",\"gujarati\", \"marathi\", \"maithili\"]\n",
        "z = x\n",
        "w = x.copy()\n",
        "print(z)\n",
        "print(\"True \") if x is not y else print(\"False\")\n",
        "print(\"True \") if x is w else print(\"False\")"
      ],
      "metadata": {
        "colab": {
          "base_uri": "https://localhost:8080/"
        },
        "id": "eVGbKos96rQC",
        "outputId": "6b599cc3-af71-46db-d38a-def56dd5d2d6"
      },
      "execution_count": null,
      "outputs": [
        {
          "output_type": "stream",
          "name": "stdout",
          "text": [
            "['kannada', 'telugu', 'tamil', 'malayalam', 'tulu']\n",
            "True \n",
            "False\n"
          ]
        }
      ]
    },
    {
      "cell_type": "markdown",
      "source": [
        "# **8. Branch statements**\n",
        "* Python supports the following condtional branch statements.\n",
        "  * if...else\n",
        "  * if.. elif...else ladder"
      ],
      "metadata": {
        "id": "UCW1yR0i7_Hp"
      }
    },
    {
      "cell_type": "code",
      "source": [
        "x = 10\n",
        "y = 2\n",
        "if x%y == 0:\n",
        "  print(x, \" is divisible by: \", y)\n",
        "else:\n",
        "  print(x, \" is not divisible by: \", y)"
      ],
      "metadata": {
        "id": "MmIxtkR2ufTy",
        "colab": {
          "base_uri": "https://localhost:8080/"
        },
        "outputId": "6432606d-68a6-4e56-f347-55f2ed141a53"
      },
      "execution_count": null,
      "outputs": [
        {
          "output_type": "stream",
          "name": "stdout",
          "text": [
            "10  is divisible by:  2\n"
          ]
        }
      ]
    },
    {
      "cell_type": "code",
      "source": [
        "print(x, \" is divisible by: \", y)if (x%y == 0) else print(x, \" is not divisible by: \", y)"
      ],
      "metadata": {
        "colab": {
          "base_uri": "https://localhost:8080/"
        },
        "id": "_6Dvxn2G9lCt",
        "outputId": "df69c502-d041-4471-f44c-c73c393ea9d4"
      },
      "execution_count": null,
      "outputs": [
        {
          "output_type": "stream",
          "name": "stdout",
          "text": [
            "10  is divisible by:  2\n"
          ]
        }
      ]
    },
    {
      "cell_type": "markdown",
      "source": [
        "# **9. Loops in Python**\n",
        "* Finite vs. Infinite\n",
        "* Sentinel vs. counter controlled\n",
        "* Python Loops:\n",
        "  * while\n",
        "  * for"
      ],
      "metadata": {
        "id": "bI7XIUM7-M4k"
      }
    },
    {
      "cell_type": "code",
      "source": [
        "x = [1,2,3,4,5,6,7,8,9]\n",
        "i = 0 #Initialization\n",
        "while i < len(x): #Testing\n",
        "  print(i+1,\" th item is: \", x[i])\n",
        "  i = i + 1 #Update\n",
        "else:\n",
        "  print(i+1, \"th item is not present\")"
      ],
      "metadata": {
        "colab": {
          "base_uri": "https://localhost:8080/"
        },
        "id": "_HgT9sHo-eiM",
        "outputId": "c759a80c-ac0c-4093-a6f0-098c7345484e"
      },
      "execution_count": null,
      "outputs": [
        {
          "output_type": "stream",
          "name": "stdout",
          "text": [
            "1  th item is:  1\n",
            "2  th item is:  2\n",
            "3  th item is:  3\n",
            "4  th item is:  4\n",
            "5  th item is:  5\n",
            "6  th item is:  6\n",
            "7  th item is:  7\n",
            "8  th item is:  8\n",
            "9  th item is:  9\n",
            "10 th item is not present\n"
          ]
        }
      ]
    },
    {
      "cell_type": "code",
      "source": [
        "for i in range(len(x)):\n",
        "  print(i+1,\" th item is: \", x[i])\n",
        "else:\n",
        "  print(i+1, \"th item is not present!\")"
      ],
      "metadata": {
        "colab": {
          "base_uri": "https://localhost:8080/"
        },
        "id": "I00GNeeb-76U",
        "outputId": "0cfe7062-9e32-4aaf-ebfa-d961e3ec6c42"
      },
      "execution_count": null,
      "outputs": [
        {
          "output_type": "stream",
          "name": "stdout",
          "text": [
            "1  th item is:  1\n",
            "2  th item is:  2\n",
            "3  th item is:  3\n",
            "4  th item is:  4\n",
            "5  th item is:  5\n",
            "6  th item is:  6\n",
            "7  th item is:  7\n",
            "8  th item is:  8\n",
            "9  th item is:  9\n",
            "9 th item is not present!\n"
          ]
        }
      ]
    },
    {
      "cell_type": "markdown",
      "source": [
        "# **Note: Unconditional jump instructions**\n",
        "  * break\n",
        "  * continue"
      ],
      "metadata": {
        "id": "oqiphxvKAHJ9"
      }
    },
    {
      "cell_type": "code",
      "source": [
        "x = [1,2,3,4,5,6,7,8,9]\n",
        "\n",
        "i = 0 #Initialization\n",
        "while i < len(x): #Testing\n",
        "    print(i+1,\" th item is: \", x[i])\n",
        "    i = i + 1 #Update\n",
        "    if i > 3:\n",
        "      break\n",
        "else:\n",
        "  print(i+1, \"th item is not present\")"
      ],
      "metadata": {
        "colab": {
          "base_uri": "https://localhost:8080/"
        },
        "id": "e2pZVDSzBGYQ",
        "outputId": "9cfc2941-f33e-4049-9e6f-ba7340f2de21"
      },
      "execution_count": null,
      "outputs": [
        {
          "output_type": "stream",
          "name": "stdout",
          "text": [
            "1  th item is:  1\n",
            "2  th item is:  2\n",
            "3  th item is:  3\n",
            "4  th item is:  4\n"
          ]
        }
      ]
    },
    {
      "cell_type": "code",
      "source": [
        "x = [1,2,3,4,5,6,7,8,9]\n",
        "\n",
        "i = 0 #Initialization\n",
        "while i < len(x): #Testing\n",
        "    print(i+1,\" th item is: \", x[i])\n",
        "    i = i + 1 #Update\n",
        "    if i <7:\n",
        "      continue\n",
        "    else:\n",
        "      break\n"
      ],
      "metadata": {
        "colab": {
          "base_uri": "https://localhost:8080/"
        },
        "id": "kDCHFz94BnX9",
        "outputId": "d9d57635-082f-433c-fb59-fe8c06b78d57"
      },
      "execution_count": null,
      "outputs": [
        {
          "output_type": "stream",
          "name": "stdout",
          "text": [
            "1  th item is:  1\n",
            "2  th item is:  2\n",
            "3  th item is:  3\n",
            "4  th item is:  4\n",
            "5  th item is:  5\n",
            "6  th item is:  6\n",
            "7  th item is:  7\n"
          ]
        }
      ]
    }
  ]
}