{
  "nbformat": 4,
  "nbformat_minor": 0,
  "metadata": {
    "colab": {
      "provenance": [],
      "collapsed_sections": [
        "YwgjVE6Bhh9f",
        "Lr_qTOn7zkwK",
        "PbacwCL5-b7p",
        "O48NDv3cCYM3",
        "rjN5HV3EHOBY",
        "2dUauK8K5wMG"
      ],
      "authorship_tag": "ABX9TyPz6Zu3zJxWnYTilxJFWEpF",
      "include_colab_link": true
    },
    "kernelspec": {
      "name": "python3",
      "display_name": "Python 3"
    },
    "language_info": {
      "name": "python"
    }
  },
  "cells": [
    {
      "cell_type": "markdown",
      "metadata": {
        "id": "view-in-github",
        "colab_type": "text"
      },
      "source": [
        "<a href=\"https://colab.research.google.com/github/kerenalli/Python/blob/main/Module1_Exercises.ipynb\" target=\"_parent\"><img src=\"https://colab.research.google.com/assets/colab-badge.svg\" alt=\"Open In Colab\"/></a>"
      ]
    },
    {
      "cell_type": "markdown",
      "source": [
        "# **1. Accept input from user and store it in variable and print the value**"
      ],
      "metadata": {
        "id": "YwgjVE6Bhh9f"
      }
    },
    {
      "cell_type": "code",
      "execution_count": null,
      "metadata": {
        "colab": {
          "base_uri": "https://localhost:8080/"
        },
        "id": "Pi35F_zphVq6",
        "outputId": "822911e5-d798-44cf-83dc-6a45afb76258"
      },
      "outputs": [
        {
          "output_type": "stream",
          "name": "stdout",
          "text": [
            "Enter your name: XYZ\n",
            "Enter the age: 18\n",
            "Enter the average of marks. 65.89\n",
            "My name is XYZ.  My age is: 18, and I have 65.89 aggregate in my UG.\n"
          ]
        }
      ],
      "source": [
        "#Use of print statements and use of (.format )for printing different data types.\n",
        "name = input(\"Enter your name: \")\n",
        "age = int(input(\"Enter the age: \"))\n",
        "avg = float(input(\"Enter the average of marks. \"))\n",
        "txt = \"My name is {}.  My age is: {}, and I have {} aggregate in my UG.\"\n",
        "print(txt.format(name, age, avg))"
      ]
    },
    {
      "cell_type": "markdown",
      "source": [
        "3. Take 2 numbers as user input and add, multiply, divide, subtract, remainder and print\n",
        "the output (Same operations on floating point input as well)"
      ],
      "metadata": {
        "id": "wU8roHo8nNwl"
      }
    },
    {
      "cell_type": "markdown",
      "source": [
        "4. Conversion of one unit to another (such as hours to minutes, miles to km and etc)\n"
      ],
      "metadata": {
        "id": "HreTbifeqS3t"
      }
    },
    {
      "cell_type": "markdown",
      "source": [
        "# **5. Usage of mathematical functions in python like math.ceil, floor, fabs, fmod, trunc,pow, sqrt etc.**"
      ],
      "metadata": {
        "id": "Lr_qTOn7zkwK"
      }
    },
    {
      "cell_type": "code",
      "source": [
        "import math\n",
        "num = float(input(\"Enter the number for which you want ceiling values: \"))\n",
        "print(\"The ceiling of \", num, \" is: \", math.ceil(num))\n",
        "num = float(input(\"Enter the number for which you want floor values: \"))\n",
        "print(\"The floor value of \", num, \" is: \", math.floor(num))\n",
        "\n",
        "\n"
      ],
      "metadata": {
        "colab": {
          "base_uri": "https://localhost:8080/"
        },
        "id": "z1V9F1NbznSG",
        "outputId": "1f2e5048-1bb8-40fa-c7e8-6ddd58bf0810"
      },
      "execution_count": null,
      "outputs": [
        {
          "output_type": "stream",
          "name": "stdout",
          "text": [
            "Enter the number for which you want ceiling values: -10.09\n",
            "The ceiling of  -10.09  is:  -10\n",
            "Enter the number for which you want floor values: -10.09\n",
            "The floor value of  -10.09  is:  -11\n"
          ]
        }
      ]
    },
    {
      "cell_type": "code",
      "source": [
        "num = float(input(\"Enter the number for which you want fabs values: \"))\n",
        "print(\"The fabs value of \", num, \" is: \", math.fabs(num))"
      ],
      "metadata": {
        "colab": {
          "base_uri": "https://localhost:8080/"
        },
        "id": "cphae_PY8vY_",
        "outputId": "003901b7-1553-4047-b7ec-a1621d3b6fd3"
      },
      "execution_count": null,
      "outputs": [
        {
          "output_type": "stream",
          "name": "stdout",
          "text": [
            "Enter the number for which you want fabs values: -12.43\n",
            "The fabs value of  -12.43  is:  12.43\n"
          ]
        }
      ]
    },
    {
      "cell_type": "code",
      "source": [
        "num = float(input(\"Enter the number for which you want fmod values: \"))\n",
        "denom = float(input(\"Enter the denom number for which you want fmod values: \"))\n",
        "\n",
        "print(\"The fmod value of \", num,denom, \" is: \", math.fmod(num,denom))"
      ],
      "metadata": {
        "colab": {
          "base_uri": "https://localhost:8080/"
        },
        "id": "S8klN2us8-IS",
        "outputId": "c473cc8c-2073-4a62-8626-d5a1bc62bde4"
      },
      "execution_count": null,
      "outputs": [
        {
          "output_type": "stream",
          "name": "stdout",
          "text": [
            "Enter the number for which you want fmod values: 13.09\n",
            "Enter the denom number for which you want fmod values: 3.3\n",
            "The fmod value of  13.09 3.3  is:  3.1900000000000004\n"
          ]
        }
      ]
    },
    {
      "cell_type": "code",
      "source": [
        "num = float(input(\"Enter the number for which you want trunc values: \"))\n",
        "\n",
        "print(\"The trunc value of \", num, \" is: \", math.trunc(num))"
      ],
      "metadata": {
        "colab": {
          "base_uri": "https://localhost:8080/"
        },
        "id": "rREzZoCf9ZAb",
        "outputId": "36070825-cb08-4705-a592-20119563e316"
      },
      "execution_count": null,
      "outputs": [
        {
          "output_type": "stream",
          "name": "stdout",
          "text": [
            "Enter the number for which you want trunc values: 12.4567\n",
            "The trunc value of  12.4567  is:  12\n"
          ]
        }
      ]
    },
    {
      "cell_type": "code",
      "source": [
        "base = float(input(\"Enter the number for which you want fmod values: \"))\n",
        "index = float(input(\"Enter the denom number for which you want fmod values: \"))\n",
        "print(base, \" pow of \", index, \" is: \", math.pow(base, index))"
      ],
      "metadata": {
        "colab": {
          "base_uri": "https://localhost:8080/"
        },
        "id": "G0_kgeK_9uzp",
        "outputId": "bbdeb55d-964d-47bf-deac-92cb6c8f0d47"
      },
      "execution_count": null,
      "outputs": [
        {
          "output_type": "stream",
          "name": "stdout",
          "text": [
            "Enter the number for which you want fmod values: 3\n",
            "Enter the denom number for which you want fmod values: 3\n",
            "3.0  pow of  3.0  is:  27.0\n"
          ]
        }
      ]
    },
    {
      "cell_type": "code",
      "source": [
        "base = float(input(\"Enter the number for which you want fmod values: \"))\n",
        "print(\" Square root of \",base, \" is: \", math.sqrt(base))"
      ],
      "metadata": {
        "colab": {
          "base_uri": "https://localhost:8080/"
        },
        "id": "3ArwtKKe-JVH",
        "outputId": "1d9887f8-3177-4f49-aec9-fbd2398c2eb2"
      },
      "execution_count": null,
      "outputs": [
        {
          "output_type": "stream",
          "name": "stdout",
          "text": [
            "Enter the number for which you want fmod values: 100\n",
            " Square root of  100.0  is:  10.0\n"
          ]
        }
      ]
    },
    {
      "cell_type": "markdown",
      "source": [
        "# **7. Building a mathematical calculator that can perform operations according to user input. Use decision making statement.**\n"
      ],
      "metadata": {
        "id": "PbacwCL5-b7p"
      }
    },
    {
      "cell_type": "code",
      "source": [
        "print(\"-----Menu-----\")\n",
        "print(\"1: Addition\")\n",
        "print(\"2: Subtraction\")\n",
        "print(\"3: Multiplication\")\n",
        "print(\"4: Division\")\n",
        "op = int(input(\"Enter your option: \"))\n",
        "if op == 1:\n",
        "  n1 = int(input(\"Number1: \"))\n",
        "  n2 = int(input(\"Number2: \"))\n",
        "  print(\"Sum of \", n1, n2, \" is \", n1+n2)\n",
        "elif op == 2:\n",
        "  n1 = int(input(\"Number1: \"))\n",
        "  n2 = int(input(\"Number2: \"))\n",
        "  print(\"Difference between \", n1, n2, \" is \", n1-n2)\n",
        "elif op == 3:\n",
        "  n1 = int(input(\"Number1: \"))\n",
        "  n2 = int(input(\"Number2: \"))\n",
        "  print(\"Product of \", n1, n2, \" is \", n1*n2)\n",
        "elif op == 4:\n",
        "  n1 = int(input(\"Number1: \"))\n",
        "  n2 = int(input(\"Number2: \"))\n",
        "  print(\"Quotient of \", n1,\" by \", n2, \" is \", n1//n2)\n",
        "else:\n",
        "  print(\"Error\")"
      ],
      "metadata": {
        "colab": {
          "base_uri": "https://localhost:8080/"
        },
        "id": "GrxcMLpl-vES",
        "outputId": "055aa231-b452-4b04-da6a-5e61c493dc57"
      },
      "execution_count": null,
      "outputs": [
        {
          "output_type": "stream",
          "name": "stdout",
          "text": [
            "-----Menu-----\n",
            "1: Addition\n",
            "2: Subtraction\n",
            "3: Multiplication\n",
            "4: Division\n",
            "Enter your option: 3\n",
            "Number1: 12\n",
            "Number2: 12\n",
            "Product of  12 12  is  144\n"
          ]
        }
      ]
    },
    {
      "cell_type": "markdown",
      "source": [
        "# **8. Accepting 5 different subject marks from user and displaying the grade of the student.**"
      ],
      "metadata": {
        "id": "O48NDv3cCYM3"
      }
    },
    {
      "cell_type": "code",
      "source": [
        "n1 = int(input(\"Enter subject 1 marks: \"))\n",
        "n2 = int(input(\"Enter subject 2 marks: \"))\n",
        "n3 = int(input(\"Enter subject 3 marks: \"))\n",
        "n4 = int(input(\"Enter subject 4 marks: \"))\n",
        "n5 = int(input(\"Enter subject 5 marks: \"))\n",
        "\n",
        "avg = (n1+n2+n3+n4+n5)//5\n",
        "\n",
        "if avg>=91 and avg <=100:\n",
        "  print(\"The grade is O.\")\n",
        "elif avg >=81 and avg <=90:\n",
        "  print(\"The grade is A.\")\n",
        "elif avg >=61 and avg <=80:\n",
        "  print(\"The grade is B.\")\n",
        "elif avg >=51 and avg <=60:\n",
        "  print(\"The grade is C.\")\n",
        "elif avg >=40 and avg <=50:\n",
        "  print(\"The grade is P.\")\n",
        "else:\n",
        "  print(\"The grade is F.\")"
      ],
      "metadata": {
        "colab": {
          "base_uri": "https://localhost:8080/"
        },
        "id": "8wEvDpBqFNrL",
        "outputId": "9cd9f556-2ed9-4506-d1f0-4086f0e61ad9"
      },
      "execution_count": null,
      "outputs": [
        {
          "output_type": "stream",
          "name": "stdout",
          "text": [
            "Enter subject 1 marks: 89\n",
            "Enter subject 2 marks: 98\n",
            "Enter subject 3 marks: 87\n",
            "Enter subject 4 marks: 56\n",
            "Enter subject 5 marks: 54\n",
            "The grade is B.\n"
          ]
        }
      ]
    },
    {
      "cell_type": "markdown",
      "source": [
        "# **9. Printing all even numbers, odd numbers, count of even numbers, count of odd numbers within a given range.**"
      ],
      "metadata": {
        "id": "rjN5HV3EHOBY"
      }
    },
    {
      "cell_type": "code",
      "source": [
        "num = int(input(\"Enter the number to generate the range: \"))\n",
        "even = []\n",
        "odd = []\n",
        "for i in range(num):\n",
        "  if i%2 == 0:\n",
        "    even.append(i)\n",
        "  else:\n",
        "    odd.append(i)\n",
        "print(\"The even numbers in the given range are:\",even)\n",
        "print(\"Total even numbers are: \", len(even))\n",
        "print(\"The odd numbers in the given range are:\",odd)\n",
        "print(\"Total odd numbers are: \", len(odd))\n"
      ],
      "metadata": {
        "id": "4PANSa3zKdlH",
        "colab": {
          "base_uri": "https://localhost:8080/"
        },
        "outputId": "06bee265-2842-4ae4-93f7-4a1d139974cf"
      },
      "execution_count": null,
      "outputs": [
        {
          "output_type": "stream",
          "name": "stdout",
          "text": [
            "Enter the number to generate the range: 23\n",
            "The even numbers in the given range are: [0, 2, 4, 6, 8, 10, 12, 14, 16, 18, 20, 22]\n",
            "Total even numbers are:  12\n",
            "The odd numbers in the given range are: [1, 3, 5, 7, 9, 11, 13, 15, 17, 19, 21]\n",
            "Total odd numbers are:  11\n"
          ]
        }
      ]
    },
    {
      "cell_type": "markdown",
      "source": [
        "# **7. Printing all even numbers, odd numbers, count of even numbers, count of odd numbers within a given range.**"
      ],
      "metadata": {
        "id": "2dUauK8K5wMG"
      }
    },
    {
      "cell_type": "code",
      "source": [
        "num = int(input(\"Enter the range value: \"))\n",
        "even = []\n",
        "odd = []\n",
        "for item in range(num):\n",
        "  if item%2 == 0:\n",
        "    even.append(item)\n",
        "  else:\n",
        "    odd.append(item)\n",
        "print(\"Total even numbers: \", len(even))\n",
        "print(\"The even numbers are: \", even)\n",
        "print(\"Total odd numbers: \", len(odd))\n",
        "print(\"The odd numbers are: \", odd)"
      ],
      "metadata": {
        "colab": {
          "base_uri": "https://localhost:8080/"
        },
        "id": "-u_rHJAImpRC",
        "outputId": "e25452d9-64eb-410f-f746-b53ba41b5fe1"
      },
      "execution_count": null,
      "outputs": [
        {
          "output_type": "stream",
          "name": "stdout",
          "text": [
            "Enter the range value: 100\n",
            "Total even numbers:  50\n",
            "The even numbers are:  [0, 2, 4, 6, 8, 10, 12, 14, 16, 18, 20, 22, 24, 26, 28, 30, 32, 34, 36, 38, 40, 42, 44, 46, 48, 50, 52, 54, 56, 58, 60, 62, 64, 66, 68, 70, 72, 74, 76, 78, 80, 82, 84, 86, 88, 90, 92, 94, 96, 98]\n",
            "Total odd numbers:  50\n",
            "The odd numbers are:  [1, 3, 5, 7, 9, 11, 13, 15, 17, 19, 21, 23, 25, 27, 29, 31, 33, 35, 37, 39, 41, 43, 45, 47, 49, 51, 53, 55, 57, 59, 61, 63, 65, 67, 69, 71, 73, 75, 77, 79, 81, 83, 85, 87, 89, 91, 93, 95, 97, 99]\n"
          ]
        }
      ]
    },
    {
      "cell_type": "markdown",
      "source": [
        "# **8. Compute the factorial of a given number. b) Compute GCD of two given numbers. c) Generate Fibonacci series up to N numbers.**"
      ],
      "metadata": {
        "id": "6zT-Zh_l5o4L"
      }
    },
    {
      "cell_type": "code",
      "source": [
        "def fact(num):\n",
        "  if num == 0 or num == 1:\n",
        "    return 1\n",
        "  else:\n",
        "    return num * fact(num-1)"
      ],
      "metadata": {
        "colab": {
          "base_uri": "https://localhost:8080/"
        },
        "id": "AHgdtaIqsBaO",
        "outputId": "e157d77a-1d1f-47ce-802b-6fd1a8d50cbb"
      },
      "execution_count": null,
      "outputs": [
        {
          "output_type": "execute_result",
          "data": {
            "text/plain": [
              "120"
            ]
          },
          "metadata": {},
          "execution_count": 28
        }
      ]
    },
    {
      "cell_type": "code",
      "source": [
        "def gcd(m,n):\n",
        "  if m == 0:\n",
        "    return n\n",
        "  else:\n",
        "    return gcd(n%m, m)"
      ],
      "metadata": {
        "colab": {
          "base_uri": "https://localhost:8080/"
        },
        "id": "rsw-z6sAtxnv",
        "outputId": "5c084e4c-784c-4160-920f-55f8b876b5b1"
      },
      "execution_count": null,
      "outputs": [
        {
          "output_type": "execute_result",
          "data": {
            "text/plain": [
              "15"
            ]
          },
          "metadata": {},
          "execution_count": 36
        }
      ]
    },
    {
      "cell_type": "code",
      "source": [
        "#0,1, 1, 2, 3, 5, 8, 13, 21, 34, 55, 89, 144\n",
        "def fib(num):\n",
        "  if num == 0 or num ==1:\n",
        "    return num\n",
        "  else:\n",
        "    return fib(num-1)+fib(num-2)"
      ],
      "metadata": {
        "colab": {
          "base_uri": "https://localhost:8080/"
        },
        "id": "P1q1aI-4wCKb",
        "outputId": "b5adc469-5ad9-42f2-d967-796baf172b03"
      },
      "execution_count": null,
      "outputs": [
        {
          "output_type": "execute_result",
          "data": {
            "text/plain": [
              "1"
            ]
          },
          "metadata": {},
          "execution_count": 41
        }
      ]
    },
    {
      "cell_type": "code",
      "source": [
        "print(\"---Menu---\")\n",
        "print(\"1. Finding a factorial of a number.\")\n",
        "print(\"2. GCD of the given two numbers. \")\n",
        "print(\"3. Fibnacci of numbers in the given range. \")\n",
        "print(\"4. Other options.\")\n",
        "\n",
        "op = int(input(\"Enter your option[1-4]\"))\n",
        "if op == 1:\n",
        "  num = int(input(\"Enter the number. \"))\n",
        "  print(\"The factorial of \", num, \" is: \", fact(num))\n",
        "elif op ==2:\n",
        "  num1 = int(input(\"Enter the number1. \"))\n",
        "  num2 = int(input(\"Enter the number2. \"))\n",
        "  print(\"GCD of \", num1, \", \", num2, \" is: \", gcd(num1, num2))\n",
        "elif op ==3:\n",
        "  num = int(input(\"Enter the number. \"))\n",
        "  print(\"The fibonacci sequence is: \")\n",
        "  for i in range(num):\n",
        "    print(fib(i))\n",
        "else:\n",
        "  print(\"Error!!\")\n"
      ],
      "metadata": {
        "colab": {
          "base_uri": "https://localhost:8080/"
        },
        "id": "BxuNC_t6xYRh",
        "outputId": "6b133ec1-7f63-4c92-dcb8-1eeb67bde8e8"
      },
      "execution_count": null,
      "outputs": [
        {
          "output_type": "stream",
          "name": "stdout",
          "text": [
            "---Menu---\n",
            "1. Finding a factorial of a number.\n",
            "2. GCD of the given two numbers. \n",
            "3. Fibnacci of numbers in the given range. \n",
            "4. Other options.\n",
            "Enter your option[1-4]4\n",
            "Error!!\n"
          ]
        }
      ]
    },
    {
      "cell_type": "markdown",
      "source": [
        "# **9. Check whether the given input is a) palindrome b) strong c) perfect**"
      ],
      "metadata": {
        "id": "mhCMg2D94rNa"
      }
    },
    {
      "cell_type": "code",
      "source": [
        "def pali(num):\n",
        "  temp = num\n",
        "  sum = 0\n",
        "  while num>0:\n",
        "    rem = num % 10\n",
        "    sum = 10 * sum + rem\n",
        "    num = num//10\n",
        "  if temp == sum:\n",
        "    print(temp, \" is a palindrome\")\n",
        "  else:\n",
        "    print(temp, \" is not a palindrome.\")"
      ],
      "metadata": {
        "id": "UH3YkCWP4xuv",
        "colab": {
          "base_uri": "https://localhost:8080/"
        },
        "outputId": "6f731771-d8d6-4e52-d5f2-0ce75c8b6142"
      },
      "execution_count": null,
      "outputs": [
        {
          "output_type": "stream",
          "name": "stdout",
          "text": [
            "1231  is not a palindrome.\n"
          ]
        }
      ]
    },
    {
      "cell_type": "code",
      "source": [
        "def fact(num):\n",
        "  if num == 0 or num == 1:\n",
        "    return 1\n",
        "  else:\n",
        "    return num * fact(num-1)\n",
        "\n",
        "def strong(num):\n",
        "  temp = num\n",
        "  sum = 0\n",
        "  while num>0:\n",
        "    rem = num % 10\n",
        "    sum  = sum + fact(rem)\n",
        "    num = num//10\n",
        "  if temp == sum:\n",
        "    print(temp, \" is a strong\")\n",
        "  else:\n",
        "    print(temp, \" is not a strong.\")"
      ],
      "metadata": {
        "id": "xld7_Ghew_CF"
      },
      "execution_count": null,
      "outputs": []
    },
    {
      "cell_type": "code",
      "source": [
        "def perfect(num):\n",
        "  sum = 0\n",
        "  for i in range(1,num):\n",
        "    if num % i==0:\n",
        "      sum = sum + i\n",
        "  if sum == num:\n",
        "    print(num, \" is a perfect number.\")\n",
        "  else:\n",
        "    print(num, \" is not a perfect number.\")"
      ],
      "metadata": {
        "id": "BHJH3-WvyPCl"
      },
      "execution_count": null,
      "outputs": []
    },
    {
      "cell_type": "code",
      "source": [
        "print(\"---Menu---\")\n",
        "print(\"1. Palindrome\")\n",
        "print(\"2. Strong number. \")\n",
        "print(\"3. Perfect. \")\n",
        "print(\"4. Other options.\")\n",
        "\n",
        "op = int(input(\"Enter your option[1-4]\"))\n",
        "\n",
        "if op == 1:\n",
        "  num = int(input(\"Enter the number. \"))\n",
        "  pali(num)\n",
        "elif op ==2:\n",
        "  num = int(input(\"Enter the number. \"))\n",
        "  strong(num)\n",
        "elif op ==3:\n",
        "  num = int(input(\"Enter the number. \"))\n",
        "  perfect(num)\n",
        "else:\n",
        "  print(\"Error!!\")"
      ],
      "metadata": {
        "colab": {
          "base_uri": "https://localhost:8080/"
        },
        "id": "Ys8DEP_qzVt8",
        "outputId": "4950ed6c-956a-4c8e-afa2-9a78ee21d8ea"
      },
      "execution_count": null,
      "outputs": [
        {
          "output_type": "stream",
          "name": "stdout",
          "text": [
            "---Menu---\n",
            "1. Palindrome\n",
            "2. Strong number. \n",
            "3. Perfect. \n",
            "4. Other options.\n",
            "Enter your option[1-4]4\n",
            "Enter the number. 4\n",
            "Error!!\n"
          ]
        }
      ]
    },
    {
      "cell_type": "markdown",
      "source": [
        "# **10. Compound Interest**"
      ],
      "metadata": {
        "id": "S6TOoe0d840i"
      }
    },
    {
      "cell_type": "code",
      "source": [
        "p = float(input(\"Enter the principal amount in Rs. \"))\n",
        "t = int(input(\"Enter the Time in years. \"))\n",
        "r = float(input(\"Enter the rate of interest in %. \"))\n",
        "n = int(input('''Enter the coumponding period\n",
        "1: Monthly,\n",
        "2: Quarterrly,\n",
        "3: Semi Annually, or\n",
        "4: Annually,\n",
        "5. Daily.\n",
        "'''\n",
        "))\n",
        "if n ==1:\n",
        "  i = p *pow((1+ r/(12*100)), 12*t)\n",
        "  print(\"compound interest is: \", i-p)\n",
        "elif n ==2:\n",
        "  i = p *pow((1+ r/(4*100)), 4*t)\n",
        "  print(\"compound interest is: \", i-p)\n",
        "elif n == 3:\n",
        "  i = p *pow((1+ r/200), 2*t)\n",
        "  print(\"compound interest is: \", i-p)\n",
        "elif n == 4:\n",
        "  i = p *pow((1+ r/100), 1*t)\n",
        "  print(\"compound interest is: \", i-p)\n",
        "else:\n",
        "  i = p *pow((1+ r/(365*100)), 365*t)\n",
        "  print(\"compound interest is: \", i-p)\n"
      ],
      "metadata": {
        "colab": {
          "base_uri": "https://localhost:8080/"
        },
        "id": "LOHs0FkJ9FJK",
        "outputId": "3aa945a9-c24c-4afc-f7b9-927b1d39290f"
      },
      "execution_count": null,
      "outputs": [
        {
          "output_type": "stream",
          "name": "stdout",
          "text": [
            "Enter the principal amount in Rs. 5000\n",
            "Enter the Time in years. 2\n",
            "Enter the rate of interest in %. 8\n",
            "Enter the coumponding period \n",
            "1: Monthly, \n",
            "2: Quarterrly, \n",
            "3: Semi Annually, or \n",
            "4: Annually,\n",
            "5. Daily.\n",
            "1\n",
            "compound interest is:  864.4396587265483\n"
          ]
        }
      ]
    },
    {
      "cell_type": "markdown",
      "source": [
        "# ** Building a mathematical calculator that can perform operations according to user input. Use decision making statement.**"
      ],
      "metadata": {
        "id": "_kwe40hrMjIe"
      }
    },
    {
      "cell_type": "code",
      "source": [
        "print(\"===Menu===\")\n",
        "print(\"1. Addition \\n 2. Subtraction.\\n 3. percentage.\\n 4. Division.  \")\n",
        "op = int(input(\"Select the operation. \"))\n",
        "if op == 1:\n",
        "  num1 = int(input(\"Enter the first value: \"))\n",
        "  num2 = int(input(\"Enter the second value: \"))\n",
        "  sum = num1 + num2\n",
        "  print(\"The sum of {} and {} is {}.\".format(num1, num2, sum))\n",
        "elif op == 2:\n",
        "  num1 = int(input(\"Enter the first value: \"))\n",
        "  num2 = int(input(\"Enter the second value: \"))\n",
        "  diff = num1 - num2\n",
        "  print(\"The difference of {} and {} is {}.\".format(num1, num2, diff))\n",
        "elif op ==3:\n",
        "  num1 = int(input(\"Enter the value: \"))\n",
        "  num2 = int(input(\"Enter the rate: \"))\n",
        "  percent = (num1 * num2)/100\n",
        "  print(\"The {} percent 0f {} is {}.\".format(num2, num1, percent))\n",
        "else:\n",
        "  print(\"You have selected a wrong option!!\")"
      ],
      "metadata": {
        "colab": {
          "base_uri": "https://localhost:8080/"
        },
        "id": "IXOneG-QMyv1",
        "outputId": "e8f720b2-30af-4d19-aee3-14e2bd535f78"
      },
      "execution_count": null,
      "outputs": [
        {
          "output_type": "stream",
          "name": "stdout",
          "text": [
            "===Menu===\n",
            "1. Addition \n",
            " 2. Subtraction.\n",
            " 3. percentage.\n",
            " 4. Division.  \n",
            "Select the operation. 5\n",
            "You have selected a wrong option!!\n"
          ]
        }
      ]
    },
    {
      "cell_type": "markdown",
      "source": [
        "# ** Accepting 5 different subject marks from user and displaying the grade of the student. **"
      ],
      "metadata": {
        "id": "47znD5k_Udoq"
      }
    },
    {
      "cell_type": "code",
      "source": [
        "m1 = int(input(\"Enter the sub 1 marks: \"))\n",
        "m2 = int(input(\"Enter the sub 2 marks: \"))\n",
        "m3 = int(input(\"Enter the sub 3 marks: \"))\n",
        "m4 = int(input(\"Enter the sub 4 marks: \"))\n",
        "m5 = int(input(\"Enter the sub 5 marks: \"))\n",
        "avg = (m1+m2+m3+m4+m5)//5\n",
        "print(\"The average is: \", avg)\n",
        "if avg>90 and avg<=100:\n",
        "  print(\"The grade is O.\")\n",
        "elif avg>80 and avg<=90:\n",
        "  print(\"The grade is A.\")\n",
        "elif avg>60 and avg<=80:\n",
        "  print(\"The grade is B.\")\n",
        "elif avg>40 and avg<=60:\n",
        "  print(\"The grade is C.\")\n",
        "else:\n",
        "  print(\"The grade is F!!\")\n",
        "\n",
        "\n"
      ],
      "metadata": {
        "colab": {
          "base_uri": "https://localhost:8080/"
        },
        "id": "B_0rji1wUi6E",
        "outputId": "5bb41579-89f4-4a4c-9ed2-5762b82cd6b8"
      },
      "execution_count": null,
      "outputs": [
        {
          "output_type": "stream",
          "name": "stdout",
          "text": [
            "Enter the sub 1 marks: 89\n",
            "Enter the sub 2 marks: 98\n",
            "Enter the sub 3 marks: 87\n",
            "Enter the sub 4 marks: 90\n",
            "Enter the sub 5 marks: 99\n",
            "The average is:  92\n",
            "The grade is O.\n"
          ]
        }
      ]
    },
    {
      "cell_type": "markdown",
      "source": [
        "# **Printing all even numbers, odd numbers, count of even numbers, count of odd numbers within a given range.**"
      ],
      "metadata": {
        "id": "bIOE6C3kXSTz"
      }
    },
    {
      "cell_type": "code",
      "source": [
        "r = int(input(\"Select the range: \"))\n",
        "ec = 0 #even count\n",
        "oc = 0 #odd count\n",
        "\n",
        "for num in range(0, r):\n",
        "  if num % 2 == 0:\n",
        "    print(num, \" is even\")\n",
        "    ec = ec + 1\n",
        "  else:\n",
        "    print(num, \" is odd\")\n",
        "    oc = oc + 1\n",
        "print(\"There are \",ec, \"number of evens in range \", num+1)\n",
        "print(\"There are \",oc, \"number of odds in range \", num+1)"
      ],
      "metadata": {
        "colab": {
          "base_uri": "https://localhost:8080/"
        },
        "id": "4DvnT4mQXY-F",
        "outputId": "21b46416-985f-479d-d590-15f0bf97a339"
      },
      "execution_count": null,
      "outputs": [
        {
          "output_type": "stream",
          "name": "stdout",
          "text": [
            "Select the range: 10\n",
            "0  is even\n",
            "1  is odd\n",
            "2  is even\n",
            "3  is odd\n",
            "4  is even\n",
            "5  is odd\n",
            "6  is even\n",
            "7  is odd\n",
            "8  is even\n",
            "9  is odd\n",
            "There are  5 number of evens in range  10\n",
            "There are  5 number of odds in range  10\n"
          ]
        }
      ]
    },
    {
      "cell_type": "markdown",
      "source": [
        "# **Compute the factorial of a given number. b) Compute GCD of two given numbers. c) Generate Fibonacci series up to N numbers.**\n"
      ],
      "metadata": {
        "id": "-H7-mulvcyxY"
      }
    },
    {
      "cell_type": "code",
      "source": [
        "#Factorial Module\n",
        "def fact(num):\n",
        "  if num == 0:\n",
        "    return 1\n",
        "  else:\n",
        "    return num * fact(num-1)"
      ],
      "metadata": {
        "id": "dZrAsx0tg9lO"
      },
      "execution_count": null,
      "outputs": []
    },
    {
      "cell_type": "code",
      "source": [
        "#GCD Module\n",
        "def gcd(m,n):\n",
        "  if m == 0:\n",
        "    return n\n",
        "  else:\n",
        "    return gcd(n%m, m)"
      ],
      "metadata": {
        "id": "FkmlGMUAijaP"
      },
      "execution_count": null,
      "outputs": []
    },
    {
      "cell_type": "code",
      "source": [
        "#Fibonacci number module\n",
        "def fib(n):\n",
        "  if n == 0 or n == 1:\n",
        "    return n\n",
        "  else:\n",
        "    return (fib(n-1) + fib(n-2))\n"
      ],
      "metadata": {
        "id": "rKu88BfNlPoR"
      },
      "execution_count": null,
      "outputs": []
    },
    {
      "cell_type": "code",
      "source": [
        "#Driver code\n",
        "print(\"====Menu====\")\n",
        "print(\"1. Factorial of a number.\\n2. GCD of two numbers. \\n3. Fibonacci Sequence.\\n4. Other\")\n",
        "op = int(input(\"Enter your option.\"))\n",
        "if op == 1:\n",
        "  print(\"Factorial Function. \")\n",
        "  num = int(input(\"Enter the number: \"))\n",
        "  print(\"Factorial of {} is {}\".format(num, fact(num)))\n",
        "elif op == 2:\n",
        "  print(\"GCD of two numbers. \")\n",
        "  m = int(input(\"Enter the biggest number: \"))\n",
        "  n = int(input(\"Enter the small number: \"))\n",
        "  print(\"GCD of {} and {} is {}\".format(m, n, gcd(m,n)))\n",
        "elif op == 3:\n",
        "  print(\"Fibonacci of numbers in range.\")\n",
        "  r  = int(input(\"Enter the number. \"))\n",
        "  for n in range(r+1):\n",
        "    print(fib(n))\n",
        "else:\n",
        "  print(\"You selected a wrong option.\")"
      ],
      "metadata": {
        "colab": {
          "base_uri": "https://localhost:8080/"
        },
        "id": "gMCe3VZzfDoR",
        "outputId": "8e0ed727-0f10-49bd-def6-5d6658f7396f"
      },
      "execution_count": null,
      "outputs": [
        {
          "output_type": "stream",
          "name": "stdout",
          "text": [
            "====Menu====\n",
            "1. Factorial of a number.\n",
            "2. GCD of two numbers. \n",
            "3. Fibonacci Sequence.\n",
            "4. Other\n",
            "Enter your option.4\n",
            "You selected a wrong option.\n"
          ]
        }
      ]
    },
    {
      "cell_type": "code",
      "source": [
        "#Palindrome or not\n",
        "def pali(num):\n",
        "  temp  = num\n",
        "  sum = 0\n",
        "  while num > 0:\n",
        "    r = num % 10 #Generate the last bit\n",
        "    sum = 10 * sum + r\n",
        "    num = num // 10\n",
        "  if temp == sum:\n",
        "    return True\n",
        "  else:\n",
        "    return False\n"
      ],
      "metadata": {
        "id": "Mfsbuq2myS5y"
      },
      "execution_count": null,
      "outputs": []
    },
    {
      "cell_type": "code",
      "source": [
        "#Strong number\n",
        "def fact(num):\n",
        "  return 1 if num == 0 else num * fact(num-1)\n",
        "\n",
        "def strong(num):\n",
        "  temp = num\n",
        "  sum = 0\n",
        "  while num>0:\n",
        "    bit = num % 10\n",
        "    sum = sum + fact(bit)\n",
        "    num = num // 10\n",
        "  if sum == temp:\n",
        "    return True\n",
        "  else:\n",
        "    return False\n"
      ],
      "metadata": {
        "id": "_XWrDgbXy_SN"
      },
      "execution_count": null,
      "outputs": []
    },
    {
      "cell_type": "code",
      "source": [
        "#Perfect number\n",
        "def perfect(n):\n",
        "  sum = 0\n",
        "  for num in range(1,n):\n",
        "    if (n % num == 0):\n",
        "      sum = sum + num\n",
        "  if n == sum:\n",
        "    return True\n",
        "  else:\n",
        "    return False\n"
      ],
      "metadata": {
        "id": "cc4xWh6-02VG"
      },
      "execution_count": null,
      "outputs": []
    },
    {
      "cell_type": "code",
      "source": [
        "print(\"====Menu====\")\n",
        "print(\"1. Palindrome. \\n2. Strong. \\n3. Perfect.\")\n",
        "op = int(input(\"Enter the option. \"))\n",
        "if op == 1:\n",
        "  num = int(input(\"Enter the number. \"))\n",
        "  flag = pali(num)\n",
        "  if flag == True:\n",
        "    print(\"The {} is a palindrome.\".format(num))\n",
        "  else:\n",
        "    print(\"The {} is not a palindrome.\".format(num))\n",
        "elif op == 2:\n",
        "  num = int(input(\"Enter the number. \"))\n",
        "  flag = strong(num)\n",
        "  if flag == True:\n",
        "    print(\"The {} is a strong one.\".format(num))\n",
        "  else:\n",
        "    print(\"The {} is not a strong one.\".format(num))\n",
        "elif op == 3:\n",
        "  num = int(input(\"Enter the number. \"))\n",
        "  flag = perfect(num)\n",
        "  if flag == True:\n",
        "    print(\"The {} is a Perfect.\".format(num))\n",
        "  else:\n",
        "    print(\"The {} is not a perfect.\".format(num))\n",
        "else:\n",
        "  print(\"Select the correct option!!\")"
      ],
      "metadata": {
        "colab": {
          "base_uri": "https://localhost:8080/"
        },
        "id": "0D9g_oHR4MJ-",
        "outputId": "f70a694f-36d4-49c1-c78c-dd12ea32fbcf"
      },
      "execution_count": null,
      "outputs": [
        {
          "output_type": "stream",
          "name": "stdout",
          "text": [
            "====Menu====\n",
            "1. Palindrome. \n",
            "2. Strong. \n",
            "3. Perfect.\n",
            "Enter the option. 10\n",
            "Select the correct option!!\n"
          ]
        }
      ]
    },
    {
      "cell_type": "code",
      "source": [
        "p = float(input(\"Enter the principal amount \"))\n",
        "t = int(input(\"Enter the time in years \"))\n",
        "r = int(input(\"Enter the rate of interest. \"))\n",
        "n = int(input(\"Enter the compounding frequency: 1. daily\\n2. Monthly.\\n3. Quarterly\\n4. Semi annually.\\n5. Annually.\"))\n",
        "ca = p*pow((1+r/(n*100)), n*t)\n",
        "ci = ca-p\n",
        "print(compound interest is: \",ci)"
      ],
      "metadata": {
        "colab": {
          "base_uri": "https://localhost:8080/"
        },
        "id": "4C7sjsdVD9WD",
        "outputId": "c4801070-2b5b-4d93-fc0f-e40de4973e82"
      },
      "execution_count": null,
      "outputs": [
        {
          "output_type": "stream",
          "name": "stdout",
          "text": [
            "Enter the principal amount 10000\n",
            "Enter the time in years 5\n",
            "Enter the rate of interest. 10\n",
            "Enter the compounding frequency: 1. daily\n",
            "2. Monthly.\n",
            "3. Quarterly\n",
            "4. Semi annually.\n",
            "5. Annually.4\n",
            "6386.164402903942\n"
          ]
        }
      ]
    }
  ]
}